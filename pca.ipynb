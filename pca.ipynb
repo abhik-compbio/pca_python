{
 "cells": [
  {
   "cell_type": "code",
   "execution_count": null,
   "id": "d8c4937a-3118-4c86-b92e-6d1b858a6a46",
   "metadata": {},
   "outputs": [],
   "source": [
    "import pandas as pd\n",
    "from sklearn.decomposition import PCA\n",
    "from sklearn.preprocessing import StandardScaler\n",
    "import matplotlib.pyplot as plt"
   ]
  },
  {
   "cell_type": "code",
   "execution_count": null,
   "id": "d0234838-0f0d-4ded-8552-c785716553a0",
   "metadata": {},
   "outputs": [],
   "source": [
    "# Load your CSV file into a pandas dataframe\n",
    "csv_file_path = '/home/abhikghosh/work_on_csi/all-atom-lowsalt-kx5-anton-traj/curve-canal-analysis/final_curve_canal/pca_tica-analysis/merged_file.csv'\n",
    "df = pd.read_csv(csv_file_path)"
   ]
  },
  {
   "cell_type": "code",
   "execution_count": 14,
   "id": "04265040-b273-4518-8d5a-8ebc8d72fbe1",
   "metadata": {},
   "outputs": [],
   "source": [
    "# Separate features from the dataframe\n",
    "features = df.iloc[:, 0:]  # Assuming your features start from the second column"
   ]
  },
  {
   "cell_type": "code",
   "execution_count": 15,
   "id": "121fbe6d-1f87-4031-ab90-9a2d71eda829",
   "metadata": {},
   "outputs": [
    {
     "data": {
      "text/html": [
       "<div>\n",
       "<style scoped>\n",
       "    .dataframe tbody tr th:only-of-type {\n",
       "        vertical-align: middle;\n",
       "    }\n",
       "\n",
       "    .dataframe tbody tr th {\n",
       "        vertical-align: top;\n",
       "    }\n",
       "\n",
       "    .dataframe thead th {\n",
       "        text-align: right;\n",
       "    }\n",
       "</style>\n",
       "<table border=\"1\" class=\"dataframe\">\n",
       "  <thead>\n",
       "    <tr style=\"text-align: right;\">\n",
       "      <th></th>\n",
       "      <th>roll</th>\n",
       "      <th>twist</th>\n",
       "      <th>shift</th>\n",
       "      <th>tilt</th>\n",
       "      <th>slide</th>\n",
       "      <th>rise</th>\n",
       "    </tr>\n",
       "  </thead>\n",
       "  <tbody>\n",
       "    <tr>\n",
       "      <th>0</th>\n",
       "      <td>2.271027</td>\n",
       "      <td>34.297055</td>\n",
       "      <td>0.052877</td>\n",
       "      <td>0.073836</td>\n",
       "      <td>0.016438</td>\n",
       "      <td>3.338904</td>\n",
       "    </tr>\n",
       "    <tr>\n",
       "      <th>1</th>\n",
       "      <td>1.173151</td>\n",
       "      <td>35.297055</td>\n",
       "      <td>0.042877</td>\n",
       "      <td>-0.119589</td>\n",
       "      <td>-0.003630</td>\n",
       "      <td>3.349726</td>\n",
       "    </tr>\n",
       "    <tr>\n",
       "      <th>2</th>\n",
       "      <td>2.483630</td>\n",
       "      <td>36.297055</td>\n",
       "      <td>0.068699</td>\n",
       "      <td>0.913630</td>\n",
       "      <td>-0.102397</td>\n",
       "      <td>3.376507</td>\n",
       "    </tr>\n",
       "    <tr>\n",
       "      <th>3</th>\n",
       "      <td>2.643356</td>\n",
       "      <td>37.297055</td>\n",
       "      <td>0.076644</td>\n",
       "      <td>0.983904</td>\n",
       "      <td>-0.047055</td>\n",
       "      <td>3.347260</td>\n",
       "    </tr>\n",
       "    <tr>\n",
       "      <th>4</th>\n",
       "      <td>2.887397</td>\n",
       "      <td>38.297055</td>\n",
       "      <td>0.012329</td>\n",
       "      <td>0.554726</td>\n",
       "      <td>0.004041</td>\n",
       "      <td>3.347123</td>\n",
       "    </tr>\n",
       "    <tr>\n",
       "      <th>...</th>\n",
       "      <td>...</td>\n",
       "      <td>...</td>\n",
       "      <td>...</td>\n",
       "      <td>...</td>\n",
       "      <td>...</td>\n",
       "      <td>...</td>\n",
       "    </tr>\n",
       "    <tr>\n",
       "      <th>2095</th>\n",
       "      <td>2.117808</td>\n",
       "      <td>34.334863</td>\n",
       "      <td>-0.058425</td>\n",
       "      <td>-0.290616</td>\n",
       "      <td>-0.040205</td>\n",
       "      <td>3.293836</td>\n",
       "    </tr>\n",
       "    <tr>\n",
       "      <th>2096</th>\n",
       "      <td>1.517740</td>\n",
       "      <td>33.986233</td>\n",
       "      <td>0.017466</td>\n",
       "      <td>-1.196849</td>\n",
       "      <td>-0.044795</td>\n",
       "      <td>3.315205</td>\n",
       "    </tr>\n",
       "    <tr>\n",
       "      <th>2097</th>\n",
       "      <td>1.414795</td>\n",
       "      <td>34.349384</td>\n",
       "      <td>-0.009041</td>\n",
       "      <td>-1.197671</td>\n",
       "      <td>-0.027740</td>\n",
       "      <td>3.283493</td>\n",
       "    </tr>\n",
       "    <tr>\n",
       "      <th>2098</th>\n",
       "      <td>1.461712</td>\n",
       "      <td>34.109110</td>\n",
       "      <td>0.069863</td>\n",
       "      <td>-0.943425</td>\n",
       "      <td>-0.058562</td>\n",
       "      <td>3.289178</td>\n",
       "    </tr>\n",
       "    <tr>\n",
       "      <th>2099</th>\n",
       "      <td>1.977260</td>\n",
       "      <td>34.690822</td>\n",
       "      <td>-0.017466</td>\n",
       "      <td>-0.621301</td>\n",
       "      <td>-0.017603</td>\n",
       "      <td>3.373219</td>\n",
       "    </tr>\n",
       "  </tbody>\n",
       "</table>\n",
       "<p>2100 rows × 6 columns</p>\n",
       "</div>"
      ],
      "text/plain": [
       "          roll      twist     shift      tilt     slide      rise\n",
       "0     2.271027  34.297055  0.052877  0.073836  0.016438  3.338904\n",
       "1     1.173151  35.297055  0.042877 -0.119589 -0.003630  3.349726\n",
       "2     2.483630  36.297055  0.068699  0.913630 -0.102397  3.376507\n",
       "3     2.643356  37.297055  0.076644  0.983904 -0.047055  3.347260\n",
       "4     2.887397  38.297055  0.012329  0.554726  0.004041  3.347123\n",
       "...        ...        ...       ...       ...       ...       ...\n",
       "2095  2.117808  34.334863 -0.058425 -0.290616 -0.040205  3.293836\n",
       "2096  1.517740  33.986233  0.017466 -1.196849 -0.044795  3.315205\n",
       "2097  1.414795  34.349384 -0.009041 -1.197671 -0.027740  3.283493\n",
       "2098  1.461712  34.109110  0.069863 -0.943425 -0.058562  3.289178\n",
       "2099  1.977260  34.690822 -0.017466 -0.621301 -0.017603  3.373219\n",
       "\n",
       "[2100 rows x 6 columns]"
      ]
     },
     "execution_count": 15,
     "metadata": {},
     "output_type": "execute_result"
    }
   ],
   "source": [
    "features"
   ]
  },
  {
   "cell_type": "code",
   "execution_count": 16,
   "id": "9f0345cc-2119-41a6-b72c-84c1b093a4a6",
   "metadata": {},
   "outputs": [],
   "source": [
    "# Standardize the features (mean=0 and variance=1)\n",
    "scaler = StandardScaler()\n",
    "scaled_features = scaler.fit_transform(features)"
   ]
  },
  {
   "cell_type": "code",
   "execution_count": 17,
   "id": "ec1cc247-7bee-437f-a105-8bcd316c2a8d",
   "metadata": {
    "scrolled": true
   },
   "outputs": [
    {
     "data": {
      "text/plain": [
       "array([[ 0.13702758,  0.46736824,  1.35359565,  0.45178199,  0.55563881,\n",
       "        -0.48042884],\n",
       "       [-1.26693232,  2.31943756,  1.09807776,  0.06644131,  0.19848783,\n",
       "        -0.18309894],\n",
       "       [ 0.40890302,  4.17150688,  1.75787398,  2.12482096, -1.55923131,\n",
       "         0.55269846],\n",
       "       ...,\n",
       "       [-0.95791925,  0.56428475, -0.22851517, -2.08131445, -0.23058092,\n",
       "        -2.00283318],\n",
       "       [-0.89792096,  0.11928069,  1.78762606, -1.57480432, -0.77910631,\n",
       "        -1.84664089],\n",
       "       [-0.23864052,  1.19665225, -0.44378025, -0.93307018, -0.05017701,\n",
       "         0.46237039]])"
      ]
     },
     "execution_count": 17,
     "metadata": {},
     "output_type": "execute_result"
    }
   ],
   "source": [
    "scaled_features"
   ]
  },
  {
   "cell_type": "code",
   "execution_count": 18,
   "id": "dec7d36d-543d-4c35-a45f-89ab6c4f8150",
   "metadata": {},
   "outputs": [],
   "source": [
    "# Perform PCA with the selected number of components\n",
    "pca = PCA(n_components=6)\n",
    "pca_result = pca.fit_transform(scaled_features)"
   ]
  },
  {
   "cell_type": "code",
   "execution_count": 20,
   "id": "755942ae-fca1-4ed2-a044-59781443d953",
   "metadata": {},
   "outputs": [],
   "source": [
    "# Create a new dataframe with the principal components\n",
    "pca_df = pd.DataFrame(data=pca_result, columns=[f'PC{i+1}' for i in range(6)])"
   ]
  },
  {
   "cell_type": "code",
   "execution_count": 22,
   "id": "1c28b726-8962-4a95-bf46-9cadd4308fbe",
   "metadata": {},
   "outputs": [],
   "source": [
    "# Save the result to a new CSV file\n",
    "pca_df.to_csv('/home/abhikghosh/work_on_csi/all-atom-lowsalt-kx5-anton-traj/curve-canal-analysis/final_curve_canal/pca_tica-analysis/results.csv', index=False)"
   ]
  },
  {
   "cell_type": "code",
   "execution_count": null,
   "id": "3845ff3a-3508-4e57-9d6c-4d7e0dfde62c",
   "metadata": {},
   "outputs": [],
   "source": [
    "fig = plt.figure(figsize = (8,8))\n",
    "ax = fig.add_subplot(1,1,1) \n",
    "ax.set_xlabel('Principal Component 1', fontsize = 15)\n",
    "ax.set_ylabel('Principal Component 2', fontsize = 15)\n",
    "ax.set_title('2 component PCA', fontsize = 20)\n",
    "\n",
    "targets = ['Iris-setosa', 'Iris-versicolor', 'Iris-virginica']\n",
    "colors = ['r', 'g', 'b']\n",
    "for target, color in zip(targets,colors):\n",
    "    indicesToKeep = finalDf['target'] == target\n",
    "    ax.scatter(finalDf.loc[indicesToKeep, 'principal component 1']\n",
    "               , finalDf.loc[indicesToKeep, 'principal component 2']\n",
    "               , c = color\n",
    "               , s = 50)\n",
    "ax.legend(targets)\n",
    "ax.grid()"
   ]
  }
 ],
 "metadata": {
  "kernelspec": {
   "display_name": "Python 3 (ipykernel)",
   "language": "python",
   "name": "python3"
  },
  "language_info": {
   "codemirror_mode": {
    "name": "ipython",
    "version": 3
   },
   "file_extension": ".py",
   "mimetype": "text/x-python",
   "name": "python",
   "nbconvert_exporter": "python",
   "pygments_lexer": "ipython3",
   "version": "3.10.12"
  }
 },
 "nbformat": 4,
 "nbformat_minor": 5
}
